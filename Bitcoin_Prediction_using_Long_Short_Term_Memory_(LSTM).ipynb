{
  "nbformat": 4,
  "nbformat_minor": 0,
  "metadata": {
    "colab": {
      "provenance": [],
      "collapsed_sections": [],
      "authorship_tag": "ABX9TyNBwH5D9MwgBgg6Jgz2qAU8",
      "include_colab_link": true
    },
    "kernelspec": {
      "name": "python3",
      "display_name": "Python 3"
    },
    "language_info": {
      "name": "python"
    }
  },
  "cells": [
    {
      "cell_type": "markdown",
      "metadata": {
        "id": "view-in-github",
        "colab_type": "text"
      },
      "source": [
        "<a href=\"https://colab.research.google.com/github/NishaB65/Bitcoin-prediction-using-Long-Short-Term-Memory-LSTM-/blob/main/Bitcoin_Prediction_using_Long_Short_Term_Memory_(LSTM).ipynb\" target=\"_parent\"><img src=\"https://colab.research.google.com/assets/colab-badge.svg\" alt=\"Open In Colab\"/></a>"
      ]
    },
    {
      "cell_type": "markdown",
      "source": [
        "# **Bitcoin Prediction using Long-Short Term Memory (LSTM)**"
      ],
      "metadata": {
        "id": "fVvs-ETyiY76"
      }
    },
    {
      "cell_type": "code",
      "execution_count": null,
      "metadata": {
        "id": "MYxrqGIAiIgm"
      },
      "outputs": [],
      "source": [
        "import pandas as pd\n",
        "import numpy as np\n",
        "import matplotlib.pyplot as plt\n",
        "import math\n",
        "\n",
        "from sklearn.preprocessing import MinMaxScaler\n",
        "from sklearn.metrics import mean_squared_error\n",
        "from tensorflow.keras.layers import Dense, Dropout, LSTM\n",
        "from tensorflow.keras.models import Sequential"
      ]
    },
    {
      "cell_type": "code",
      "source": [
        "data= pd.read_csv('/content/Bitcoin.csv')\n",
        "data.head()"
      ],
      "metadata": {
        "colab": {
          "base_uri": "https://localhost:8080/",
          "height": 357
        },
        "id": "s2FFupr7nnUA",
        "outputId": "4804609b-cc91-4580-a84d-dab80e596108"
      },
      "execution_count": null,
      "outputs": [
        {
          "output_type": "execute_result",
          "data": {
            "text/plain": [
              "      date_id          datetime_id    market  rpt_key        last    diff_24h  \\\n",
              "0  2017-05-31  2017-06-01 00:00:00  bitstamp  btc_eur     1996.72     2029.99   \n",
              "1  2017-05-31  2017-06-01 00:00:00  bitflyer  btc_jpy   267098.00   269649.00   \n",
              "2  2017-05-31  2017-06-01 00:00:00    korbit  btc_krw  3003500.00  3140000.00   \n",
              "3  2017-05-31  2017-06-01 00:00:00  bitstamp  btc_usd     2237.40     2239.37   \n",
              "4  2017-05-31  2017-06-01 00:00:00    okcoin  btc_usd     2318.82     2228.70   \n",
              "\n",
              "   diff_per_24h         bid         ask         low        high        volume  \\\n",
              "0     -1.638924     2005.50     2005.56     1950.00     2063.73   2314.500750   \n",
              "1     -0.946045   267124.00   267267.00   267124.00   267267.00  70922.880112   \n",
              "2     -4.347134  3003500.00  3004000.00  3002000.00  3209500.00   6109.752872   \n",
              "3     -0.087971     2233.09     2237.40     2154.28     2293.46  13681.282017   \n",
              "4      4.043613     2319.40     2319.99     2129.78     2318.82   4241.641516   \n",
              "\n",
              "            created_at           updated_at  \n",
              "0  2017-05-31 14:59:36  2017-05-31 14:59:36  \n",
              "1  2017-05-31 14:59:36  2017-05-31 14:59:36  \n",
              "2  2017-05-31 14:59:36  2017-05-31 14:59:36  \n",
              "3  2017-05-31 14:59:36  2017-05-31 14:59:36  \n",
              "4  2017-05-31 14:59:36  2017-05-31 14:59:36  "
            ],
            "text/html": [
              "\n",
              "  <div id=\"df-b1973bab-f697-4e94-88de-446270275320\">\n",
              "    <div class=\"colab-df-container\">\n",
              "      <div>\n",
              "<style scoped>\n",
              "    .dataframe tbody tr th:only-of-type {\n",
              "        vertical-align: middle;\n",
              "    }\n",
              "\n",
              "    .dataframe tbody tr th {\n",
              "        vertical-align: top;\n",
              "    }\n",
              "\n",
              "    .dataframe thead th {\n",
              "        text-align: right;\n",
              "    }\n",
              "</style>\n",
              "<table border=\"1\" class=\"dataframe\">\n",
              "  <thead>\n",
              "    <tr style=\"text-align: right;\">\n",
              "      <th></th>\n",
              "      <th>date_id</th>\n",
              "      <th>datetime_id</th>\n",
              "      <th>market</th>\n",
              "      <th>rpt_key</th>\n",
              "      <th>last</th>\n",
              "      <th>diff_24h</th>\n",
              "      <th>diff_per_24h</th>\n",
              "      <th>bid</th>\n",
              "      <th>ask</th>\n",
              "      <th>low</th>\n",
              "      <th>high</th>\n",
              "      <th>volume</th>\n",
              "      <th>created_at</th>\n",
              "      <th>updated_at</th>\n",
              "    </tr>\n",
              "  </thead>\n",
              "  <tbody>\n",
              "    <tr>\n",
              "      <th>0</th>\n",
              "      <td>2017-05-31</td>\n",
              "      <td>2017-06-01 00:00:00</td>\n",
              "      <td>bitstamp</td>\n",
              "      <td>btc_eur</td>\n",
              "      <td>1996.72</td>\n",
              "      <td>2029.99</td>\n",
              "      <td>-1.638924</td>\n",
              "      <td>2005.50</td>\n",
              "      <td>2005.56</td>\n",
              "      <td>1950.00</td>\n",
              "      <td>2063.73</td>\n",
              "      <td>2314.500750</td>\n",
              "      <td>2017-05-31 14:59:36</td>\n",
              "      <td>2017-05-31 14:59:36</td>\n",
              "    </tr>\n",
              "    <tr>\n",
              "      <th>1</th>\n",
              "      <td>2017-05-31</td>\n",
              "      <td>2017-06-01 00:00:00</td>\n",
              "      <td>bitflyer</td>\n",
              "      <td>btc_jpy</td>\n",
              "      <td>267098.00</td>\n",
              "      <td>269649.00</td>\n",
              "      <td>-0.946045</td>\n",
              "      <td>267124.00</td>\n",
              "      <td>267267.00</td>\n",
              "      <td>267124.00</td>\n",
              "      <td>267267.00</td>\n",
              "      <td>70922.880112</td>\n",
              "      <td>2017-05-31 14:59:36</td>\n",
              "      <td>2017-05-31 14:59:36</td>\n",
              "    </tr>\n",
              "    <tr>\n",
              "      <th>2</th>\n",
              "      <td>2017-05-31</td>\n",
              "      <td>2017-06-01 00:00:00</td>\n",
              "      <td>korbit</td>\n",
              "      <td>btc_krw</td>\n",
              "      <td>3003500.00</td>\n",
              "      <td>3140000.00</td>\n",
              "      <td>-4.347134</td>\n",
              "      <td>3003500.00</td>\n",
              "      <td>3004000.00</td>\n",
              "      <td>3002000.00</td>\n",
              "      <td>3209500.00</td>\n",
              "      <td>6109.752872</td>\n",
              "      <td>2017-05-31 14:59:36</td>\n",
              "      <td>2017-05-31 14:59:36</td>\n",
              "    </tr>\n",
              "    <tr>\n",
              "      <th>3</th>\n",
              "      <td>2017-05-31</td>\n",
              "      <td>2017-06-01 00:00:00</td>\n",
              "      <td>bitstamp</td>\n",
              "      <td>btc_usd</td>\n",
              "      <td>2237.40</td>\n",
              "      <td>2239.37</td>\n",
              "      <td>-0.087971</td>\n",
              "      <td>2233.09</td>\n",
              "      <td>2237.40</td>\n",
              "      <td>2154.28</td>\n",
              "      <td>2293.46</td>\n",
              "      <td>13681.282017</td>\n",
              "      <td>2017-05-31 14:59:36</td>\n",
              "      <td>2017-05-31 14:59:36</td>\n",
              "    </tr>\n",
              "    <tr>\n",
              "      <th>4</th>\n",
              "      <td>2017-05-31</td>\n",
              "      <td>2017-06-01 00:00:00</td>\n",
              "      <td>okcoin</td>\n",
              "      <td>btc_usd</td>\n",
              "      <td>2318.82</td>\n",
              "      <td>2228.70</td>\n",
              "      <td>4.043613</td>\n",
              "      <td>2319.40</td>\n",
              "      <td>2319.99</td>\n",
              "      <td>2129.78</td>\n",
              "      <td>2318.82</td>\n",
              "      <td>4241.641516</td>\n",
              "      <td>2017-05-31 14:59:36</td>\n",
              "      <td>2017-05-31 14:59:36</td>\n",
              "    </tr>\n",
              "  </tbody>\n",
              "</table>\n",
              "</div>\n",
              "      <button class=\"colab-df-convert\" onclick=\"convertToInteractive('df-b1973bab-f697-4e94-88de-446270275320')\"\n",
              "              title=\"Convert this dataframe to an interactive table.\"\n",
              "              style=\"display:none;\">\n",
              "        \n",
              "  <svg xmlns=\"http://www.w3.org/2000/svg\" height=\"24px\"viewBox=\"0 0 24 24\"\n",
              "       width=\"24px\">\n",
              "    <path d=\"M0 0h24v24H0V0z\" fill=\"none\"/>\n",
              "    <path d=\"M18.56 5.44l.94 2.06.94-2.06 2.06-.94-2.06-.94-.94-2.06-.94 2.06-2.06.94zm-11 1L8.5 8.5l.94-2.06 2.06-.94-2.06-.94L8.5 2.5l-.94 2.06-2.06.94zm10 10l.94 2.06.94-2.06 2.06-.94-2.06-.94-.94-2.06-.94 2.06-2.06.94z\"/><path d=\"M17.41 7.96l-1.37-1.37c-.4-.4-.92-.59-1.43-.59-.52 0-1.04.2-1.43.59L10.3 9.45l-7.72 7.72c-.78.78-.78 2.05 0 2.83L4 21.41c.39.39.9.59 1.41.59.51 0 1.02-.2 1.41-.59l7.78-7.78 2.81-2.81c.8-.78.8-2.07 0-2.86zM5.41 20L4 18.59l7.72-7.72 1.47 1.35L5.41 20z\"/>\n",
              "  </svg>\n",
              "      </button>\n",
              "      \n",
              "  <style>\n",
              "    .colab-df-container {\n",
              "      display:flex;\n",
              "      flex-wrap:wrap;\n",
              "      gap: 12px;\n",
              "    }\n",
              "\n",
              "    .colab-df-convert {\n",
              "      background-color: #E8F0FE;\n",
              "      border: none;\n",
              "      border-radius: 50%;\n",
              "      cursor: pointer;\n",
              "      display: none;\n",
              "      fill: #1967D2;\n",
              "      height: 32px;\n",
              "      padding: 0 0 0 0;\n",
              "      width: 32px;\n",
              "    }\n",
              "\n",
              "    .colab-df-convert:hover {\n",
              "      background-color: #E2EBFA;\n",
              "      box-shadow: 0px 1px 2px rgba(60, 64, 67, 0.3), 0px 1px 3px 1px rgba(60, 64, 67, 0.15);\n",
              "      fill: #174EA6;\n",
              "    }\n",
              "\n",
              "    [theme=dark] .colab-df-convert {\n",
              "      background-color: #3B4455;\n",
              "      fill: #D2E3FC;\n",
              "    }\n",
              "\n",
              "    [theme=dark] .colab-df-convert:hover {\n",
              "      background-color: #434B5C;\n",
              "      box-shadow: 0px 1px 3px 1px rgba(0, 0, 0, 0.15);\n",
              "      filter: drop-shadow(0px 1px 2px rgba(0, 0, 0, 0.3));\n",
              "      fill: #FFFFFF;\n",
              "    }\n",
              "  </style>\n",
              "\n",
              "      <script>\n",
              "        const buttonEl =\n",
              "          document.querySelector('#df-b1973bab-f697-4e94-88de-446270275320 button.colab-df-convert');\n",
              "        buttonEl.style.display =\n",
              "          google.colab.kernel.accessAllowed ? 'block' : 'none';\n",
              "\n",
              "        async function convertToInteractive(key) {\n",
              "          const element = document.querySelector('#df-b1973bab-f697-4e94-88de-446270275320');\n",
              "          const dataTable =\n",
              "            await google.colab.kernel.invokeFunction('convertToInteractive',\n",
              "                                                     [key], {});\n",
              "          if (!dataTable) return;\n",
              "\n",
              "          const docLinkHtml = 'Like what you see? Visit the ' +\n",
              "            '<a target=\"_blank\" href=https://colab.research.google.com/notebooks/data_table.ipynb>data table notebook</a>'\n",
              "            + ' to learn more about interactive tables.';\n",
              "          element.innerHTML = '';\n",
              "          dataTable['output_type'] = 'display_data';\n",
              "          await google.colab.output.renderOutput(dataTable, element);\n",
              "          const docLink = document.createElement('div');\n",
              "          docLink.innerHTML = docLinkHtml;\n",
              "          element.appendChild(docLink);\n",
              "        }\n",
              "      </script>\n",
              "    </div>\n",
              "  </div>\n",
              "  "
            ]
          },
          "metadata": {},
          "execution_count": 4
        }
      ]
    },
    {
      "cell_type": "code",
      "source": [
        "data['rpt_key'].value_counts()"
      ],
      "metadata": {
        "colab": {
          "base_uri": "https://localhost:8080/"
        },
        "id": "CEBzpckmoTu6",
        "outputId": "46fc19b3-1a2e-4270-c789-35d82b3a04d4"
      },
      "execution_count": null,
      "outputs": [
        {
          "output_type": "execute_result",
          "data": {
            "text/plain": [
              "btc_usd       125438\n",
              "btc_eur        62719\n",
              "btc_jpy        62719\n",
              "btc_krw        62719\n",
              "etc_krw        62719\n",
              "eth_btc        62719\n",
              "eth_krw        62719\n",
              "fx_btc_jpy     62719\n",
              "ltc_usd        62719\n",
              "Name: rpt_key, dtype: int64"
            ]
          },
          "metadata": {},
          "execution_count": 5
        }
      ]
    },
    {
      "cell_type": "code",
      "source": [
        "df= data.loc[(data['rpt_key'] == 'btc_usd')]\n",
        "df.head()"
      ],
      "metadata": {
        "colab": {
          "base_uri": "https://localhost:8080/",
          "height": 337
        },
        "id": "koIJ-oG4oXrZ",
        "outputId": "3e88d86e-93e0-4353-e399-48752c5eedf6"
      },
      "execution_count": null,
      "outputs": [
        {
          "output_type": "execute_result",
          "data": {
            "text/plain": [
              "       date_id          datetime_id    market  rpt_key     last  diff_24h  \\\n",
              "3   2017-05-31  2017-06-01 00:00:00  bitstamp  btc_usd  2237.40   2239.37   \n",
              "4   2017-05-31  2017-06-01 00:00:00    okcoin  btc_usd  2318.82   2228.70   \n",
              "15  2017-06-01  2017-06-01 00:01:00  bitstamp  btc_usd  2248.39   2242.44   \n",
              "16  2017-06-01  2017-06-01 00:01:00    okcoin  btc_usd  2320.42   2228.40   \n",
              "23  2017-06-01  2017-06-01 00:02:00  bitstamp  btc_usd  2248.35   2238.58   \n",
              "\n",
              "    diff_per_24h      bid      ask      low     high        volume  \\\n",
              "3      -0.087971  2233.09  2237.40  2154.28  2293.46  13681.282017   \n",
              "4       4.043613  2319.40  2319.99  2129.78  2318.82   4241.641516   \n",
              "15      0.265336  2247.77  2248.38  2154.28  2293.46  13701.698603   \n",
              "16      4.129420  2320.99  2321.49  2129.78  2322.00   4260.261516   \n",
              "23      0.436437  2248.35  2248.69  2154.28  2293.46  13742.110913   \n",
              "\n",
              "             created_at           updated_at  \n",
              "3   2017-05-31 14:59:36  2017-05-31 14:59:36  \n",
              "4   2017-05-31 14:59:36  2017-05-31 14:59:36  \n",
              "15  2017-05-31 15:00:36  2017-05-31 15:00:36  \n",
              "16  2017-05-31 15:00:36  2017-05-31 15:00:36  \n",
              "23  2017-05-31 15:01:36  2017-05-31 15:01:36  "
            ],
            "text/html": [
              "\n",
              "  <div id=\"df-bab406c8-257c-4100-b7cb-4159855a0815\">\n",
              "    <div class=\"colab-df-container\">\n",
              "      <div>\n",
              "<style scoped>\n",
              "    .dataframe tbody tr th:only-of-type {\n",
              "        vertical-align: middle;\n",
              "    }\n",
              "\n",
              "    .dataframe tbody tr th {\n",
              "        vertical-align: top;\n",
              "    }\n",
              "\n",
              "    .dataframe thead th {\n",
              "        text-align: right;\n",
              "    }\n",
              "</style>\n",
              "<table border=\"1\" class=\"dataframe\">\n",
              "  <thead>\n",
              "    <tr style=\"text-align: right;\">\n",
              "      <th></th>\n",
              "      <th>date_id</th>\n",
              "      <th>datetime_id</th>\n",
              "      <th>market</th>\n",
              "      <th>rpt_key</th>\n",
              "      <th>last</th>\n",
              "      <th>diff_24h</th>\n",
              "      <th>diff_per_24h</th>\n",
              "      <th>bid</th>\n",
              "      <th>ask</th>\n",
              "      <th>low</th>\n",
              "      <th>high</th>\n",
              "      <th>volume</th>\n",
              "      <th>created_at</th>\n",
              "      <th>updated_at</th>\n",
              "    </tr>\n",
              "  </thead>\n",
              "  <tbody>\n",
              "    <tr>\n",
              "      <th>3</th>\n",
              "      <td>2017-05-31</td>\n",
              "      <td>2017-06-01 00:00:00</td>\n",
              "      <td>bitstamp</td>\n",
              "      <td>btc_usd</td>\n",
              "      <td>2237.40</td>\n",
              "      <td>2239.37</td>\n",
              "      <td>-0.087971</td>\n",
              "      <td>2233.09</td>\n",
              "      <td>2237.40</td>\n",
              "      <td>2154.28</td>\n",
              "      <td>2293.46</td>\n",
              "      <td>13681.282017</td>\n",
              "      <td>2017-05-31 14:59:36</td>\n",
              "      <td>2017-05-31 14:59:36</td>\n",
              "    </tr>\n",
              "    <tr>\n",
              "      <th>4</th>\n",
              "      <td>2017-05-31</td>\n",
              "      <td>2017-06-01 00:00:00</td>\n",
              "      <td>okcoin</td>\n",
              "      <td>btc_usd</td>\n",
              "      <td>2318.82</td>\n",
              "      <td>2228.70</td>\n",
              "      <td>4.043613</td>\n",
              "      <td>2319.40</td>\n",
              "      <td>2319.99</td>\n",
              "      <td>2129.78</td>\n",
              "      <td>2318.82</td>\n",
              "      <td>4241.641516</td>\n",
              "      <td>2017-05-31 14:59:36</td>\n",
              "      <td>2017-05-31 14:59:36</td>\n",
              "    </tr>\n",
              "    <tr>\n",
              "      <th>15</th>\n",
              "      <td>2017-06-01</td>\n",
              "      <td>2017-06-01 00:01:00</td>\n",
              "      <td>bitstamp</td>\n",
              "      <td>btc_usd</td>\n",
              "      <td>2248.39</td>\n",
              "      <td>2242.44</td>\n",
              "      <td>0.265336</td>\n",
              "      <td>2247.77</td>\n",
              "      <td>2248.38</td>\n",
              "      <td>2154.28</td>\n",
              "      <td>2293.46</td>\n",
              "      <td>13701.698603</td>\n",
              "      <td>2017-05-31 15:00:36</td>\n",
              "      <td>2017-05-31 15:00:36</td>\n",
              "    </tr>\n",
              "    <tr>\n",
              "      <th>16</th>\n",
              "      <td>2017-06-01</td>\n",
              "      <td>2017-06-01 00:01:00</td>\n",
              "      <td>okcoin</td>\n",
              "      <td>btc_usd</td>\n",
              "      <td>2320.42</td>\n",
              "      <td>2228.40</td>\n",
              "      <td>4.129420</td>\n",
              "      <td>2320.99</td>\n",
              "      <td>2321.49</td>\n",
              "      <td>2129.78</td>\n",
              "      <td>2322.00</td>\n",
              "      <td>4260.261516</td>\n",
              "      <td>2017-05-31 15:00:36</td>\n",
              "      <td>2017-05-31 15:00:36</td>\n",
              "    </tr>\n",
              "    <tr>\n",
              "      <th>23</th>\n",
              "      <td>2017-06-01</td>\n",
              "      <td>2017-06-01 00:02:00</td>\n",
              "      <td>bitstamp</td>\n",
              "      <td>btc_usd</td>\n",
              "      <td>2248.35</td>\n",
              "      <td>2238.58</td>\n",
              "      <td>0.436437</td>\n",
              "      <td>2248.35</td>\n",
              "      <td>2248.69</td>\n",
              "      <td>2154.28</td>\n",
              "      <td>2293.46</td>\n",
              "      <td>13742.110913</td>\n",
              "      <td>2017-05-31 15:01:36</td>\n",
              "      <td>2017-05-31 15:01:36</td>\n",
              "    </tr>\n",
              "  </tbody>\n",
              "</table>\n",
              "</div>\n",
              "      <button class=\"colab-df-convert\" onclick=\"convertToInteractive('df-bab406c8-257c-4100-b7cb-4159855a0815')\"\n",
              "              title=\"Convert this dataframe to an interactive table.\"\n",
              "              style=\"display:none;\">\n",
              "        \n",
              "  <svg xmlns=\"http://www.w3.org/2000/svg\" height=\"24px\"viewBox=\"0 0 24 24\"\n",
              "       width=\"24px\">\n",
              "    <path d=\"M0 0h24v24H0V0z\" fill=\"none\"/>\n",
              "    <path d=\"M18.56 5.44l.94 2.06.94-2.06 2.06-.94-2.06-.94-.94-2.06-.94 2.06-2.06.94zm-11 1L8.5 8.5l.94-2.06 2.06-.94-2.06-.94L8.5 2.5l-.94 2.06-2.06.94zm10 10l.94 2.06.94-2.06 2.06-.94-2.06-.94-.94-2.06-.94 2.06-2.06.94z\"/><path d=\"M17.41 7.96l-1.37-1.37c-.4-.4-.92-.59-1.43-.59-.52 0-1.04.2-1.43.59L10.3 9.45l-7.72 7.72c-.78.78-.78 2.05 0 2.83L4 21.41c.39.39.9.59 1.41.59.51 0 1.02-.2 1.41-.59l7.78-7.78 2.81-2.81c.8-.78.8-2.07 0-2.86zM5.41 20L4 18.59l7.72-7.72 1.47 1.35L5.41 20z\"/>\n",
              "  </svg>\n",
              "      </button>\n",
              "      \n",
              "  <style>\n",
              "    .colab-df-container {\n",
              "      display:flex;\n",
              "      flex-wrap:wrap;\n",
              "      gap: 12px;\n",
              "    }\n",
              "\n",
              "    .colab-df-convert {\n",
              "      background-color: #E8F0FE;\n",
              "      border: none;\n",
              "      border-radius: 50%;\n",
              "      cursor: pointer;\n",
              "      display: none;\n",
              "      fill: #1967D2;\n",
              "      height: 32px;\n",
              "      padding: 0 0 0 0;\n",
              "      width: 32px;\n",
              "    }\n",
              "\n",
              "    .colab-df-convert:hover {\n",
              "      background-color: #E2EBFA;\n",
              "      box-shadow: 0px 1px 2px rgba(60, 64, 67, 0.3), 0px 1px 3px 1px rgba(60, 64, 67, 0.15);\n",
              "      fill: #174EA6;\n",
              "    }\n",
              "\n",
              "    [theme=dark] .colab-df-convert {\n",
              "      background-color: #3B4455;\n",
              "      fill: #D2E3FC;\n",
              "    }\n",
              "\n",
              "    [theme=dark] .colab-df-convert:hover {\n",
              "      background-color: #434B5C;\n",
              "      box-shadow: 0px 1px 3px 1px rgba(0, 0, 0, 0.15);\n",
              "      filter: drop-shadow(0px 1px 2px rgba(0, 0, 0, 0.3));\n",
              "      fill: #FFFFFF;\n",
              "    }\n",
              "  </style>\n",
              "\n",
              "      <script>\n",
              "        const buttonEl =\n",
              "          document.querySelector('#df-bab406c8-257c-4100-b7cb-4159855a0815 button.colab-df-convert');\n",
              "        buttonEl.style.display =\n",
              "          google.colab.kernel.accessAllowed ? 'block' : 'none';\n",
              "\n",
              "        async function convertToInteractive(key) {\n",
              "          const element = document.querySelector('#df-bab406c8-257c-4100-b7cb-4159855a0815');\n",
              "          const dataTable =\n",
              "            await google.colab.kernel.invokeFunction('convertToInteractive',\n",
              "                                                     [key], {});\n",
              "          if (!dataTable) return;\n",
              "\n",
              "          const docLinkHtml = 'Like what you see? Visit the ' +\n",
              "            '<a target=\"_blank\" href=https://colab.research.google.com/notebooks/data_table.ipynb>data table notebook</a>'\n",
              "            + ' to learn more about interactive tables.';\n",
              "          element.innerHTML = '';\n",
              "          dataTable['output_type'] = 'display_data';\n",
              "          await google.colab.output.renderOutput(dataTable, element);\n",
              "          const docLink = document.createElement('div');\n",
              "          docLink.innerHTML = docLinkHtml;\n",
              "          element.appendChild(docLink);\n",
              "        }\n",
              "      </script>\n",
              "    </div>\n",
              "  </div>\n",
              "  "
            ]
          },
          "metadata": {},
          "execution_count": 6
        }
      ]
    },
    {
      "cell_type": "code",
      "source": [
        "df= df.reset_index(drop= True)\n",
        "df['datetime']= pd.to_datetime(df['datetime_id'])\n",
        "df = df.loc[df['datetime'] > pd.to_datetime('2017-06-28 00:00:00')]"
      ],
      "metadata": {
        "id": "Ey7sjLpGsWH5"
      },
      "execution_count": null,
      "outputs": []
    },
    {
      "cell_type": "code",
      "source": [
        "df= df[['datetime', 'last', 'bid', 'ask', 'low', 'high', 'volume']]\n",
        "df"
      ],
      "metadata": {
        "colab": {
          "base_uri": "https://localhost:8080/",
          "height": 424
        },
        "id": "Xw9dPDVusZrU",
        "outputId": "0431b6e6-8322-4e97-e5d0-496b8accdb69"
      },
      "execution_count": null,
      "outputs": [
        {
          "output_type": "execute_result",
          "data": {
            "text/plain": [
              "                  datetime     last      bid      ask      low     high  \\\n",
              "77762  2017-06-28 00:01:00  2344.00  2335.01  2343.89  2307.00  2473.19   \n",
              "77763  2017-06-28 00:01:00  2499.39  2495.00  2499.33  2444.00  2780.62   \n",
              "77764  2017-06-28 00:02:00  2337.18  2337.18  2340.00  2307.00  2473.19   \n",
              "77765  2017-06-28 00:02:00  2492.76  2492.76  2495.00  2444.00  2780.62   \n",
              "77766  2017-06-28 00:03:00  2335.02  2335.01  2335.02  2307.00  2473.19   \n",
              "...                    ...      ...      ...      ...      ...      ...   \n",
              "125433 2017-07-14 13:16:00  2394.03  2394.35  2405.72  2378.02  2529.20   \n",
              "125434 2017-07-14 13:17:00  2320.47  2320.48  2322.55  2307.46  2413.60   \n",
              "125435 2017-07-14 13:17:00  2394.03  2394.42  2405.69  2378.02  2529.20   \n",
              "125436 2017-07-14 13:18:00  2320.47  2320.57  2322.55  2307.46  2413.60   \n",
              "125437 2017-07-14 13:18:00  2394.03  2394.17  2405.69  2378.02  2529.20   \n",
              "\n",
              "              volume  \n",
              "77762   20719.583592  \n",
              "77763    2265.557866  \n",
              "77764   20732.082581  \n",
              "77765    2262.618866  \n",
              "77766   20665.357191  \n",
              "...              ...  \n",
              "125433   1111.540000  \n",
              "125434   7969.263583  \n",
              "125435   1111.540000  \n",
              "125436   7968.970715  \n",
              "125437   1111.221000  \n",
              "\n",
              "[47676 rows x 7 columns]"
            ],
            "text/html": [
              "\n",
              "  <div id=\"df-9da6ed90-932f-49e9-bd0b-f6327c17d8e8\">\n",
              "    <div class=\"colab-df-container\">\n",
              "      <div>\n",
              "<style scoped>\n",
              "    .dataframe tbody tr th:only-of-type {\n",
              "        vertical-align: middle;\n",
              "    }\n",
              "\n",
              "    .dataframe tbody tr th {\n",
              "        vertical-align: top;\n",
              "    }\n",
              "\n",
              "    .dataframe thead th {\n",
              "        text-align: right;\n",
              "    }\n",
              "</style>\n",
              "<table border=\"1\" class=\"dataframe\">\n",
              "  <thead>\n",
              "    <tr style=\"text-align: right;\">\n",
              "      <th></th>\n",
              "      <th>datetime</th>\n",
              "      <th>last</th>\n",
              "      <th>bid</th>\n",
              "      <th>ask</th>\n",
              "      <th>low</th>\n",
              "      <th>high</th>\n",
              "      <th>volume</th>\n",
              "    </tr>\n",
              "  </thead>\n",
              "  <tbody>\n",
              "    <tr>\n",
              "      <th>77762</th>\n",
              "      <td>2017-06-28 00:01:00</td>\n",
              "      <td>2344.00</td>\n",
              "      <td>2335.01</td>\n",
              "      <td>2343.89</td>\n",
              "      <td>2307.00</td>\n",
              "      <td>2473.19</td>\n",
              "      <td>20719.583592</td>\n",
              "    </tr>\n",
              "    <tr>\n",
              "      <th>77763</th>\n",
              "      <td>2017-06-28 00:01:00</td>\n",
              "      <td>2499.39</td>\n",
              "      <td>2495.00</td>\n",
              "      <td>2499.33</td>\n",
              "      <td>2444.00</td>\n",
              "      <td>2780.62</td>\n",
              "      <td>2265.557866</td>\n",
              "    </tr>\n",
              "    <tr>\n",
              "      <th>77764</th>\n",
              "      <td>2017-06-28 00:02:00</td>\n",
              "      <td>2337.18</td>\n",
              "      <td>2337.18</td>\n",
              "      <td>2340.00</td>\n",
              "      <td>2307.00</td>\n",
              "      <td>2473.19</td>\n",
              "      <td>20732.082581</td>\n",
              "    </tr>\n",
              "    <tr>\n",
              "      <th>77765</th>\n",
              "      <td>2017-06-28 00:02:00</td>\n",
              "      <td>2492.76</td>\n",
              "      <td>2492.76</td>\n",
              "      <td>2495.00</td>\n",
              "      <td>2444.00</td>\n",
              "      <td>2780.62</td>\n",
              "      <td>2262.618866</td>\n",
              "    </tr>\n",
              "    <tr>\n",
              "      <th>77766</th>\n",
              "      <td>2017-06-28 00:03:00</td>\n",
              "      <td>2335.02</td>\n",
              "      <td>2335.01</td>\n",
              "      <td>2335.02</td>\n",
              "      <td>2307.00</td>\n",
              "      <td>2473.19</td>\n",
              "      <td>20665.357191</td>\n",
              "    </tr>\n",
              "    <tr>\n",
              "      <th>...</th>\n",
              "      <td>...</td>\n",
              "      <td>...</td>\n",
              "      <td>...</td>\n",
              "      <td>...</td>\n",
              "      <td>...</td>\n",
              "      <td>...</td>\n",
              "      <td>...</td>\n",
              "    </tr>\n",
              "    <tr>\n",
              "      <th>125433</th>\n",
              "      <td>2017-07-14 13:16:00</td>\n",
              "      <td>2394.03</td>\n",
              "      <td>2394.35</td>\n",
              "      <td>2405.72</td>\n",
              "      <td>2378.02</td>\n",
              "      <td>2529.20</td>\n",
              "      <td>1111.540000</td>\n",
              "    </tr>\n",
              "    <tr>\n",
              "      <th>125434</th>\n",
              "      <td>2017-07-14 13:17:00</td>\n",
              "      <td>2320.47</td>\n",
              "      <td>2320.48</td>\n",
              "      <td>2322.55</td>\n",
              "      <td>2307.46</td>\n",
              "      <td>2413.60</td>\n",
              "      <td>7969.263583</td>\n",
              "    </tr>\n",
              "    <tr>\n",
              "      <th>125435</th>\n",
              "      <td>2017-07-14 13:17:00</td>\n",
              "      <td>2394.03</td>\n",
              "      <td>2394.42</td>\n",
              "      <td>2405.69</td>\n",
              "      <td>2378.02</td>\n",
              "      <td>2529.20</td>\n",
              "      <td>1111.540000</td>\n",
              "    </tr>\n",
              "    <tr>\n",
              "      <th>125436</th>\n",
              "      <td>2017-07-14 13:18:00</td>\n",
              "      <td>2320.47</td>\n",
              "      <td>2320.57</td>\n",
              "      <td>2322.55</td>\n",
              "      <td>2307.46</td>\n",
              "      <td>2413.60</td>\n",
              "      <td>7968.970715</td>\n",
              "    </tr>\n",
              "    <tr>\n",
              "      <th>125437</th>\n",
              "      <td>2017-07-14 13:18:00</td>\n",
              "      <td>2394.03</td>\n",
              "      <td>2394.17</td>\n",
              "      <td>2405.69</td>\n",
              "      <td>2378.02</td>\n",
              "      <td>2529.20</td>\n",
              "      <td>1111.221000</td>\n",
              "    </tr>\n",
              "  </tbody>\n",
              "</table>\n",
              "<p>47676 rows × 7 columns</p>\n",
              "</div>\n",
              "      <button class=\"colab-df-convert\" onclick=\"convertToInteractive('df-9da6ed90-932f-49e9-bd0b-f6327c17d8e8')\"\n",
              "              title=\"Convert this dataframe to an interactive table.\"\n",
              "              style=\"display:none;\">\n",
              "        \n",
              "  <svg xmlns=\"http://www.w3.org/2000/svg\" height=\"24px\"viewBox=\"0 0 24 24\"\n",
              "       width=\"24px\">\n",
              "    <path d=\"M0 0h24v24H0V0z\" fill=\"none\"/>\n",
              "    <path d=\"M18.56 5.44l.94 2.06.94-2.06 2.06-.94-2.06-.94-.94-2.06-.94 2.06-2.06.94zm-11 1L8.5 8.5l.94-2.06 2.06-.94-2.06-.94L8.5 2.5l-.94 2.06-2.06.94zm10 10l.94 2.06.94-2.06 2.06-.94-2.06-.94-.94-2.06-.94 2.06-2.06.94z\"/><path d=\"M17.41 7.96l-1.37-1.37c-.4-.4-.92-.59-1.43-.59-.52 0-1.04.2-1.43.59L10.3 9.45l-7.72 7.72c-.78.78-.78 2.05 0 2.83L4 21.41c.39.39.9.59 1.41.59.51 0 1.02-.2 1.41-.59l7.78-7.78 2.81-2.81c.8-.78.8-2.07 0-2.86zM5.41 20L4 18.59l7.72-7.72 1.47 1.35L5.41 20z\"/>\n",
              "  </svg>\n",
              "      </button>\n",
              "      \n",
              "  <style>\n",
              "    .colab-df-container {\n",
              "      display:flex;\n",
              "      flex-wrap:wrap;\n",
              "      gap: 12px;\n",
              "    }\n",
              "\n",
              "    .colab-df-convert {\n",
              "      background-color: #E8F0FE;\n",
              "      border: none;\n",
              "      border-radius: 50%;\n",
              "      cursor: pointer;\n",
              "      display: none;\n",
              "      fill: #1967D2;\n",
              "      height: 32px;\n",
              "      padding: 0 0 0 0;\n",
              "      width: 32px;\n",
              "    }\n",
              "\n",
              "    .colab-df-convert:hover {\n",
              "      background-color: #E2EBFA;\n",
              "      box-shadow: 0px 1px 2px rgba(60, 64, 67, 0.3), 0px 1px 3px 1px rgba(60, 64, 67, 0.15);\n",
              "      fill: #174EA6;\n",
              "    }\n",
              "\n",
              "    [theme=dark] .colab-df-convert {\n",
              "      background-color: #3B4455;\n",
              "      fill: #D2E3FC;\n",
              "    }\n",
              "\n",
              "    [theme=dark] .colab-df-convert:hover {\n",
              "      background-color: #434B5C;\n",
              "      box-shadow: 0px 1px 3px 1px rgba(0, 0, 0, 0.15);\n",
              "      filter: drop-shadow(0px 1px 2px rgba(0, 0, 0, 0.3));\n",
              "      fill: #FFFFFF;\n",
              "    }\n",
              "  </style>\n",
              "\n",
              "      <script>\n",
              "        const buttonEl =\n",
              "          document.querySelector('#df-9da6ed90-932f-49e9-bd0b-f6327c17d8e8 button.colab-df-convert');\n",
              "        buttonEl.style.display =\n",
              "          google.colab.kernel.accessAllowed ? 'block' : 'none';\n",
              "\n",
              "        async function convertToInteractive(key) {\n",
              "          const element = document.querySelector('#df-9da6ed90-932f-49e9-bd0b-f6327c17d8e8');\n",
              "          const dataTable =\n",
              "            await google.colab.kernel.invokeFunction('convertToInteractive',\n",
              "                                                     [key], {});\n",
              "          if (!dataTable) return;\n",
              "\n",
              "          const docLinkHtml = 'Like what you see? Visit the ' +\n",
              "            '<a target=\"_blank\" href=https://colab.research.google.com/notebooks/data_table.ipynb>data table notebook</a>'\n",
              "            + ' to learn more about interactive tables.';\n",
              "          element.innerHTML = '';\n",
              "          dataTable['output_type'] = 'display_data';\n",
              "          await google.colab.output.renderOutput(dataTable, element);\n",
              "          const docLink = document.createElement('div');\n",
              "          docLink.innerHTML = docLinkHtml;\n",
              "          element.appendChild(docLink);\n",
              "        }\n",
              "      </script>\n",
              "    </div>\n",
              "  </div>\n",
              "  "
            ]
          },
          "metadata": {},
          "execution_count": 8
        }
      ]
    },
    {
      "cell_type": "code",
      "source": [
        "df= df[['last']]"
      ],
      "metadata": {
        "id": "11ddo4wXs0iB"
      },
      "execution_count": null,
      "outputs": []
    },
    {
      "cell_type": "code",
      "source": [
        "dataset= df.values\n",
        "dataset= dataset.astype('float32')"
      ],
      "metadata": {
        "id": "-JvCrzkgs34j"
      },
      "execution_count": null,
      "outputs": []
    },
    {
      "cell_type": "code",
      "source": [
        "dataset"
      ],
      "metadata": {
        "colab": {
          "base_uri": "https://localhost:8080/"
        },
        "id": "ksDjtJGfs7Qz",
        "outputId": "705dfaad-3791-4040-906b-970d6786c73a"
      },
      "execution_count": null,
      "outputs": [
        {
          "output_type": "execute_result",
          "data": {
            "text/plain": [
              "array([[2344.  ],\n",
              "       [2499.39],\n",
              "       [2337.18],\n",
              "       ...,\n",
              "       [2394.03],\n",
              "       [2320.47],\n",
              "       [2394.03]], dtype=float32)"
            ]
          },
          "metadata": {},
          "execution_count": 11
        }
      ]
    },
    {
      "cell_type": "code",
      "source": [
        "scaler= MinMaxScaler(feature_range= (0, 1))\n",
        "dataset= scaler.fit_transform(dataset)"
      ],
      "metadata": {
        "id": "O0M6KpN-tBZM"
      },
      "execution_count": null,
      "outputs": []
    },
    {
      "cell_type": "code",
      "source": [
        "dataset"
      ],
      "metadata": {
        "colab": {
          "base_uri": "https://localhost:8080/"
        },
        "id": "l5bG2qi4tE3y",
        "outputId": "5d87b644-6fe6-40ec-c8fe-b7a33d4b3696"
      },
      "execution_count": null,
      "outputs": [
        {
          "output_type": "execute_result",
          "data": {
            "text/plain": [
              "array([[0.1997695 ],\n",
              "       [0.49828053],\n",
              "       [0.18666792],\n",
              "       ...,\n",
              "       [0.29587936],\n",
              "       [0.15456724],\n",
              "       [0.29587936]], dtype=float32)"
            ]
          },
          "metadata": {},
          "execution_count": 13
        }
      ]
    },
    {
      "cell_type": "code",
      "source": [
        "dataset.shape"
      ],
      "metadata": {
        "colab": {
          "base_uri": "https://localhost:8080/"
        },
        "id": "2yDQQ5ZoLFkX",
        "outputId": "0c6b91d8-8040-464b-ff5c-9b9ebe3302fb"
      },
      "execution_count": null,
      "outputs": [
        {
          "output_type": "execute_result",
          "data": {
            "text/plain": [
              "(47676, 1)"
            ]
          },
          "metadata": {},
          "execution_count": 14
        }
      ]
    },
    {
      "cell_type": "code",
      "source": [
        "train_size= int(len(dataset) * 0.67)\n",
        "test_size= len(dataset) - train_size\n",
        "train, test= dataset[0: train_size, :], dataset[train_size: len(dataset), :]\n",
        "print(len(train), len(test))"
      ],
      "metadata": {
        "colab": {
          "base_uri": "https://localhost:8080/"
        },
        "id": "hcTCOHV208iC",
        "outputId": "f9f58dc1-f324-4f7c-85ba-97e242a9138c"
      },
      "execution_count": null,
      "outputs": [
        {
          "output_type": "stream",
          "name": "stdout",
          "text": [
            "31942 15734\n"
          ]
        }
      ]
    },
    {
      "cell_type": "code",
      "source": [
        "def create_dataset(dataset, look_back= 1):\n",
        "  dataX, dataY= [], []\n",
        "  for i in range(len(dataset) - look_back-1):\n",
        "    a = dataset[i: (i+look_back), 0]\n",
        "    dataX.append(a)\n",
        "    dataY.append(dataset[i + look_back, 0])\n",
        "  return np.array(dataX), np.array(dataY)"
      ],
      "metadata": {
        "id": "-NE2OavB4inz"
      },
      "execution_count": null,
      "outputs": []
    },
    {
      "cell_type": "code",
      "source": [
        "look_back= 10\n",
        "x_train, y_train= create_dataset(train, look_back= look_back)\n",
        "x_test, y_test= create_dataset(test, look_back= look_back)"
      ],
      "metadata": {
        "id": "Lv-OszMI4vFm"
      },
      "execution_count": null,
      "outputs": []
    },
    {
      "cell_type": "code",
      "source": [
        "x_train"
      ],
      "metadata": {
        "colab": {
          "base_uri": "https://localhost:8080/"
        },
        "id": "D9hLm2Xq4wBB",
        "outputId": "02806f03-9d6b-42ee-f821-0ca54f0cb9e9"
      },
      "execution_count": null,
      "outputs": [
        {
          "output_type": "execute_result",
          "data": {
            "text/plain": [
              "array([[0.1997695 , 0.49828053, 0.18666792, ..., 0.4975314 , 0.19973087,\n",
              "        0.4860053 ],\n",
              "       [0.49828053, 0.18666792, 0.4855442 , ..., 0.19973087, 0.4860053 ,\n",
              "        0.18442059],\n",
              "       [0.18666792, 0.4855442 , 0.18251848, ..., 0.4860053 , 0.18442059,\n",
              "        0.48598576],\n",
              "       ...,\n",
              "       [0.53376245, 0.6943617 , 0.53105354, ..., 0.7082124 , 0.5205841 ,\n",
              "        0.7081547 ],\n",
              "       [0.6943617 , 0.53105354, 0.70823145, ..., 0.5205841 , 0.7081547 ,\n",
              "        0.52665424],\n",
              "       [0.53105354, 0.70823145, 0.5332055 , ..., 0.7081547 , 0.52665424,\n",
              "        0.7081547 ]], dtype=float32)"
            ]
          },
          "metadata": {},
          "execution_count": 18
        }
      ]
    },
    {
      "cell_type": "code",
      "source": [
        "y_train"
      ],
      "metadata": {
        "colab": {
          "base_uri": "https://localhost:8080/"
        },
        "id": "P0D2eB0T4yIW",
        "outputId": "f00c46fa-9618-45a7-ebfb-4f60e1b2f0d7"
      },
      "execution_count": null,
      "outputs": [
        {
          "output_type": "execute_result",
          "data": {
            "text/plain": [
              "array([0.18442059, 0.48598576, 0.19208527, ..., 0.52665424, 0.7081547 ,\n",
              "       0.5206418 ], dtype=float32)"
            ]
          },
          "metadata": {},
          "execution_count": 19
        }
      ]
    },
    {
      "cell_type": "code",
      "source": [
        "x_train= np.reshape(x_train, (x_train.shape[0], 1, x_train.shape[1]))\n",
        "x_test= np.reshape(x_test, (x_test.shape[0], 1, x_test.shape[1]))"
      ],
      "metadata": {
        "id": "zn7PwVCZ8efK"
      },
      "execution_count": null,
      "outputs": []
    },
    {
      "cell_type": "code",
      "source": [
        "model = Sequential()\n",
        "model.add(LSTM(4, input_shape=(1, look_back)))\n",
        "model.add(Dense(1))\n",
        "model.compile(loss='mean_squared_error', optimizer='adam')\n",
        "model.fit(x_train, x_train, epochs=100, batch_size=256, verbose=2)"
      ],
      "metadata": {
        "colab": {
          "base_uri": "https://localhost:8080/"
        },
        "id": "h8WJWgzmABUy",
        "outputId": "33747ce6-6e95-47bb-83a4-d266816c42f6"
      },
      "execution_count": null,
      "outputs": [
        {
          "output_type": "stream",
          "name": "stdout",
          "text": [
            "Epoch 1/100\n",
            "125/125 - 2s - loss: 0.0945 - 2s/epoch - 18ms/step\n",
            "Epoch 2/100\n",
            "125/125 - 1s - loss: 0.0247 - 607ms/epoch - 5ms/step\n",
            "Epoch 3/100\n",
            "125/125 - 1s - loss: 0.0243 - 661ms/epoch - 5ms/step\n",
            "Epoch 4/100\n",
            "125/125 - 1s - loss: 0.0238 - 629ms/epoch - 5ms/step\n",
            "Epoch 5/100\n",
            "125/125 - 1s - loss: 0.0234 - 624ms/epoch - 5ms/step\n",
            "Epoch 6/100\n",
            "125/125 - 1s - loss: 0.0230 - 662ms/epoch - 5ms/step\n",
            "Epoch 7/100\n",
            "125/125 - 1s - loss: 0.0227 - 699ms/epoch - 6ms/step\n",
            "Epoch 8/100\n",
            "125/125 - 1s - loss: 0.0225 - 633ms/epoch - 5ms/step\n",
            "Epoch 9/100\n",
            "125/125 - 1s - loss: 0.0223 - 704ms/epoch - 6ms/step\n",
            "Epoch 10/100\n",
            "125/125 - 1s - loss: 0.0222 - 752ms/epoch - 6ms/step\n",
            "Epoch 11/100\n",
            "125/125 - 1s - loss: 0.0221 - 731ms/epoch - 6ms/step\n",
            "Epoch 12/100\n",
            "125/125 - 1s - loss: 0.0220 - 753ms/epoch - 6ms/step\n",
            "Epoch 13/100\n",
            "125/125 - 1s - loss: 0.0220 - 724ms/epoch - 6ms/step\n",
            "Epoch 14/100\n",
            "125/125 - 1s - loss: 0.0219 - 713ms/epoch - 6ms/step\n",
            "Epoch 15/100\n",
            "125/125 - 1s - loss: 0.0219 - 712ms/epoch - 6ms/step\n",
            "Epoch 16/100\n",
            "125/125 - 1s - loss: 0.0219 - 746ms/epoch - 6ms/step\n",
            "Epoch 17/100\n",
            "125/125 - 1s - loss: 0.0219 - 724ms/epoch - 6ms/step\n",
            "Epoch 18/100\n",
            "125/125 - 1s - loss: 0.0219 - 680ms/epoch - 5ms/step\n",
            "Epoch 19/100\n",
            "125/125 - 1s - loss: 0.0219 - 676ms/epoch - 5ms/step\n",
            "Epoch 20/100\n",
            "125/125 - 1s - loss: 0.0219 - 669ms/epoch - 5ms/step\n",
            "Epoch 21/100\n",
            "125/125 - 1s - loss: 0.0219 - 753ms/epoch - 6ms/step\n",
            "Epoch 22/100\n",
            "125/125 - 1s - loss: 0.0219 - 685ms/epoch - 5ms/step\n",
            "Epoch 23/100\n",
            "125/125 - 1s - loss: 0.0219 - 675ms/epoch - 5ms/step\n",
            "Epoch 24/100\n",
            "125/125 - 1s - loss: 0.0219 - 686ms/epoch - 5ms/step\n",
            "Epoch 25/100\n",
            "125/125 - 1s - loss: 0.0219 - 740ms/epoch - 6ms/step\n",
            "Epoch 26/100\n",
            "125/125 - 1s - loss: 0.0219 - 713ms/epoch - 6ms/step\n",
            "Epoch 27/100\n",
            "125/125 - 1s - loss: 0.0219 - 690ms/epoch - 6ms/step\n",
            "Epoch 28/100\n",
            "125/125 - 1s - loss: 0.0219 - 706ms/epoch - 6ms/step\n",
            "Epoch 29/100\n",
            "125/125 - 1s - loss: 0.0219 - 719ms/epoch - 6ms/step\n",
            "Epoch 30/100\n",
            "125/125 - 1s - loss: 0.0219 - 716ms/epoch - 6ms/step\n",
            "Epoch 31/100\n",
            "125/125 - 1s - loss: 0.0219 - 702ms/epoch - 6ms/step\n",
            "Epoch 32/100\n",
            "125/125 - 1s - loss: 0.0219 - 653ms/epoch - 5ms/step\n",
            "Epoch 33/100\n",
            "125/125 - 1s - loss: 0.0219 - 701ms/epoch - 6ms/step\n",
            "Epoch 34/100\n",
            "125/125 - 1s - loss: 0.0219 - 707ms/epoch - 6ms/step\n",
            "Epoch 35/100\n",
            "125/125 - 1s - loss: 0.0219 - 652ms/epoch - 5ms/step\n",
            "Epoch 36/100\n",
            "125/125 - 1s - loss: 0.0219 - 687ms/epoch - 5ms/step\n",
            "Epoch 37/100\n",
            "125/125 - 1s - loss: 0.0219 - 712ms/epoch - 6ms/step\n",
            "Epoch 38/100\n",
            "125/125 - 1s - loss: 0.0219 - 700ms/epoch - 6ms/step\n",
            "Epoch 39/100\n",
            "125/125 - 1s - loss: 0.0219 - 697ms/epoch - 6ms/step\n",
            "Epoch 40/100\n",
            "125/125 - 1s - loss: 0.0219 - 733ms/epoch - 6ms/step\n",
            "Epoch 41/100\n",
            "125/125 - 1s - loss: 0.0219 - 687ms/epoch - 5ms/step\n",
            "Epoch 42/100\n",
            "125/125 - 1s - loss: 0.0219 - 752ms/epoch - 6ms/step\n",
            "Epoch 43/100\n",
            "125/125 - 1s - loss: 0.0219 - 743ms/epoch - 6ms/step\n",
            "Epoch 44/100\n",
            "125/125 - 1s - loss: 0.0219 - 745ms/epoch - 6ms/step\n",
            "Epoch 45/100\n",
            "125/125 - 1s - loss: 0.0219 - 713ms/epoch - 6ms/step\n",
            "Epoch 46/100\n",
            "125/125 - 1s - loss: 0.0219 - 698ms/epoch - 6ms/step\n",
            "Epoch 47/100\n",
            "125/125 - 1s - loss: 0.0219 - 691ms/epoch - 6ms/step\n",
            "Epoch 48/100\n",
            "125/125 - 1s - loss: 0.0219 - 718ms/epoch - 6ms/step\n",
            "Epoch 49/100\n",
            "125/125 - 1s - loss: 0.0219 - 701ms/epoch - 6ms/step\n",
            "Epoch 50/100\n",
            "125/125 - 1s - loss: 0.0219 - 683ms/epoch - 5ms/step\n",
            "Epoch 51/100\n",
            "125/125 - 1s - loss: 0.0219 - 702ms/epoch - 6ms/step\n",
            "Epoch 52/100\n",
            "125/125 - 1s - loss: 0.0219 - 671ms/epoch - 5ms/step\n",
            "Epoch 53/100\n",
            "125/125 - 1s - loss: 0.0219 - 688ms/epoch - 6ms/step\n",
            "Epoch 54/100\n",
            "125/125 - 1s - loss: 0.0219 - 690ms/epoch - 6ms/step\n",
            "Epoch 55/100\n",
            "125/125 - 1s - loss: 0.0219 - 703ms/epoch - 6ms/step\n",
            "Epoch 56/100\n",
            "125/125 - 1s - loss: 0.0219 - 711ms/epoch - 6ms/step\n",
            "Epoch 57/100\n",
            "125/125 - 1s - loss: 0.0219 - 702ms/epoch - 6ms/step\n",
            "Epoch 58/100\n",
            "125/125 - 1s - loss: 0.0219 - 701ms/epoch - 6ms/step\n",
            "Epoch 59/100\n",
            "125/125 - 1s - loss: 0.0219 - 725ms/epoch - 6ms/step\n",
            "Epoch 60/100\n",
            "125/125 - 1s - loss: 0.0219 - 689ms/epoch - 6ms/step\n",
            "Epoch 61/100\n",
            "125/125 - 1s - loss: 0.0219 - 666ms/epoch - 5ms/step\n",
            "Epoch 62/100\n",
            "125/125 - 1s - loss: 0.0219 - 656ms/epoch - 5ms/step\n",
            "Epoch 63/100\n",
            "125/125 - 1s - loss: 0.0219 - 612ms/epoch - 5ms/step\n",
            "Epoch 64/100\n",
            "125/125 - 1s - loss: 0.0219 - 682ms/epoch - 5ms/step\n",
            "Epoch 65/100\n",
            "125/125 - 1s - loss: 0.0219 - 667ms/epoch - 5ms/step\n",
            "Epoch 66/100\n",
            "125/125 - 1s - loss: 0.0219 - 712ms/epoch - 6ms/step\n",
            "Epoch 67/100\n",
            "125/125 - 1s - loss: 0.0219 - 705ms/epoch - 6ms/step\n",
            "Epoch 68/100\n",
            "125/125 - 1s - loss: 0.0219 - 709ms/epoch - 6ms/step\n",
            "Epoch 69/100\n",
            "125/125 - 1s - loss: 0.0219 - 718ms/epoch - 6ms/step\n",
            "Epoch 70/100\n",
            "125/125 - 1s - loss: 0.0219 - 696ms/epoch - 6ms/step\n",
            "Epoch 71/100\n",
            "125/125 - 1s - loss: 0.0218 - 704ms/epoch - 6ms/step\n",
            "Epoch 72/100\n",
            "125/125 - 1s - loss: 0.0219 - 731ms/epoch - 6ms/step\n",
            "Epoch 73/100\n",
            "125/125 - 1s - loss: 0.0219 - 652ms/epoch - 5ms/step\n",
            "Epoch 74/100\n",
            "125/125 - 1s - loss: 0.0219 - 675ms/epoch - 5ms/step\n",
            "Epoch 75/100\n",
            "125/125 - 1s - loss: 0.0219 - 694ms/epoch - 6ms/step\n",
            "Epoch 76/100\n",
            "125/125 - 1s - loss: 0.0218 - 634ms/epoch - 5ms/step\n",
            "Epoch 77/100\n",
            "125/125 - 1s - loss: 0.0219 - 658ms/epoch - 5ms/step\n",
            "Epoch 78/100\n",
            "125/125 - 1s - loss: 0.0219 - 653ms/epoch - 5ms/step\n",
            "Epoch 79/100\n",
            "125/125 - 1s - loss: 0.0219 - 656ms/epoch - 5ms/step\n",
            "Epoch 80/100\n",
            "125/125 - 1s - loss: 0.0219 - 676ms/epoch - 5ms/step\n",
            "Epoch 81/100\n",
            "125/125 - 1s - loss: 0.0219 - 691ms/epoch - 6ms/step\n",
            "Epoch 82/100\n",
            "125/125 - 1s - loss: 0.0219 - 686ms/epoch - 5ms/step\n",
            "Epoch 83/100\n",
            "125/125 - 1s - loss: 0.0219 - 711ms/epoch - 6ms/step\n",
            "Epoch 84/100\n",
            "125/125 - 1s - loss: 0.0218 - 684ms/epoch - 5ms/step\n",
            "Epoch 85/100\n",
            "125/125 - 1s - loss: 0.0219 - 652ms/epoch - 5ms/step\n",
            "Epoch 86/100\n",
            "125/125 - 1s - loss: 0.0219 - 678ms/epoch - 5ms/step\n",
            "Epoch 87/100\n",
            "125/125 - 1s - loss: 0.0219 - 609ms/epoch - 5ms/step\n",
            "Epoch 88/100\n",
            "125/125 - 1s - loss: 0.0218 - 657ms/epoch - 5ms/step\n",
            "Epoch 89/100\n",
            "125/125 - 1s - loss: 0.0218 - 693ms/epoch - 6ms/step\n",
            "Epoch 90/100\n",
            "125/125 - 1s - loss: 0.0219 - 661ms/epoch - 5ms/step\n",
            "Epoch 91/100\n",
            "125/125 - 1s - loss: 0.0219 - 647ms/epoch - 5ms/step\n",
            "Epoch 92/100\n",
            "125/125 - 1s - loss: 0.0219 - 662ms/epoch - 5ms/step\n",
            "Epoch 93/100\n",
            "125/125 - 1s - loss: 0.0218 - 677ms/epoch - 5ms/step\n",
            "Epoch 94/100\n",
            "125/125 - 1s - loss: 0.0218 - 637ms/epoch - 5ms/step\n",
            "Epoch 95/100\n",
            "125/125 - 1s - loss: 0.0218 - 642ms/epoch - 5ms/step\n",
            "Epoch 96/100\n",
            "125/125 - 1s - loss: 0.0218 - 691ms/epoch - 6ms/step\n",
            "Epoch 97/100\n",
            "125/125 - 1s - loss: 0.0219 - 656ms/epoch - 5ms/step\n",
            "Epoch 98/100\n",
            "125/125 - 1s - loss: 0.0218 - 673ms/epoch - 5ms/step\n",
            "Epoch 99/100\n",
            "125/125 - 1s - loss: 0.0219 - 714ms/epoch - 6ms/step\n",
            "Epoch 100/100\n",
            "125/125 - 1s - loss: 0.0219 - 700ms/epoch - 6ms/step\n"
          ]
        },
        {
          "output_type": "execute_result",
          "data": {
            "text/plain": [
              "<keras.callbacks.History at 0x7f4a796b2e10>"
            ]
          },
          "metadata": {},
          "execution_count": 21
        }
      ]
    },
    {
      "cell_type": "code",
      "source": [
        "trainPredict= model.predict(x_train)\n",
        "testPredict= model.predict(x_test)"
      ],
      "metadata": {
        "colab": {
          "base_uri": "https://localhost:8080/"
        },
        "id": "lFxJ8RT2_ajD",
        "outputId": "a35a4a38-abd4-44ac-b188-67176718695f"
      },
      "execution_count": null,
      "outputs": [
        {
          "output_type": "stream",
          "name": "stdout",
          "text": [
            "998/998 [==============================] - 1s 992us/step\n",
            "492/492 [==============================] - 1s 1ms/step\n"
          ]
        }
      ]
    },
    {
      "cell_type": "code",
      "source": [
        "trainPredict= scaler.inverse_transform(trainPredict)\n",
        "y_train= scaler.inverse_transform([y_train])\n",
        "testPredict= scaler.inverse_transform(testPredict)\n",
        "y_test= scaler.inverse_transform([y_test])"
      ],
      "metadata": {
        "id": "F6E-BnCYE3D8"
      },
      "execution_count": null,
      "outputs": []
    },
    {
      "cell_type": "code",
      "source": [
        "trainScore= math.sqrt(mean_squared_error(y_train[0], trainPredict[:, 0]))\n",
        "print('Train Score: %.2f RMSE' % (trainScore))\n",
        "testScore= math.sqrt(mean_squared_error(y_test[0], testPredict[:, 0]))\n",
        "print('Test Score: %.2f RMSE' % (testScore))"
      ],
      "metadata": {
        "colab": {
          "base_uri": "https://localhost:8080/"
        },
        "id": "cdQnY8JVBm8C",
        "outputId": "c1893567-edd3-4ca9-f69c-2c8c56f316ef"
      },
      "execution_count": null,
      "outputs": [
        {
          "output_type": "stream",
          "name": "stdout",
          "text": [
            "Train Score: 76.71 RMSE\n",
            "Test Score: 148.33 RMSE\n"
          ]
        }
      ]
    },
    {
      "cell_type": "code",
      "source": [
        "trainPredictPlot= np.empty_like(dataset)\n",
        "trainPredictPlot[:, :]= np.nan\n",
        "trainPredictPlot[look_back:len(trainPredict) + look_back, :]= trainPredict"
      ],
      "metadata": {
        "id": "CXXGorizIOqd"
      },
      "execution_count": null,
      "outputs": []
    },
    {
      "cell_type": "code",
      "source": [
        "testPredictPlot= np.empty_like(dataset)\n",
        "testPredictPlot[:, :]= np.nan\n",
        "testPredictPlot[len(trainPredict) + (look_back * 2) + 1:len(dataset) - 1, :]= testPredict"
      ],
      "metadata": {
        "id": "x_zEa3r_J6v0"
      },
      "execution_count": null,
      "outputs": []
    },
    {
      "cell_type": "code",
      "source": [
        "plt.plot(df['last'], label= 'Actual')\n",
        "plt.plot(pd.DataFrame(trainPredictPlot, columns= [\"close\"], index= df.index).close, label= 'Training')\n",
        "plt.plot(pd.DataFrame(testPredictPlot, columns= [\"close\"], index= df.index).close, label= 'Testing')\n",
        "plt.legend(loc= 'best')\n",
        "plt.show()"
      ],
      "metadata": {
        "colab": {
          "base_uri": "https://localhost:8080/",
          "height": 265
        },
        "id": "OO25EW-SKByp",
        "outputId": "3dec5191-bfda-471e-ccb0-bb6a334ebae1"
      },
      "execution_count": null,
      "outputs": [
        {
          "output_type": "display_data",
          "data": {
            "text/plain": [
              "<Figure size 432x288 with 1 Axes>"
            ],
            "image/png": "[encoded data removed]"
          },
          "metadata": {
            "needs_background": "light"
          }
        }
      ]
    }
  ]
}